{
 "cells": [
  {
   "cell_type": "markdown",
   "id": "90d5a5a5",
   "metadata": {},
   "source": [
    "####  Pruebas desde un Cliente Externo\n",
    "\n",
    "Archivo con 3 llamadas de prueba (similar a client.py)."
   ]
  },
  {
   "cell_type": "code",
   "execution_count": 1,
   "id": "13d05bab",
   "metadata": {},
   "outputs": [
    {
     "name": "stdout",
     "output_type": "stream",
     "text": [
      "\n",
      "--- Caso 1 ---\n",
      "POST http://127.0.0.1:8000/predict\n",
      "Enviado: {\"pclass\": 3, \"age\": 29, \"fare\": 7.25, \"sibsp\": 0, \"parch\": 0, \"sex\": \"male\", \"embarked\": \"S\"}\n",
      "Status: 200\n",
      "Respuesta: {'prediction': 0, 'probability': 0.09749064048200846, 'verdict': 'no_sobrevive'}\n",
      "\n",
      "--- Caso 2 ---\n",
      "POST http://127.0.0.1:8000/predict\n",
      "Enviado: {\"pclass\": 1, \"age\": 38, \"fare\": 71.2833, \"sibsp\": 1, \"parch\": 0, \"sex\": \"female\", \"embarked\": \"C\"}\n",
      "Status: 200\n",
      "Respuesta: {'prediction': 1, 'probability': 0.921272861502076, 'verdict': 'sobrevive'}\n",
      "\n",
      "--- Caso 3 ---\n",
      "POST http://127.0.0.1:8000/predict\n",
      "Enviado: {\"pclass\": 2, \"age\": 21, \"fare\": 13.0, \"sibsp\": 0, \"parch\": 1, \"sex\": \"female\", \"embarked\": \"Q\"}\n",
      "Status: 200\n",
      "Respuesta: {'prediction': 1, 'probability': 0.8143857470138042, 'verdict': 'sobrevive'}\n"
     ]
    }
   ],
   "source": [
    "import os\n",
    "import json\n",
    "import requests\n",
    "\n",
    "API_URL = os.getenv(\"API_URL\", \"http://127.0.0.1:8000\")\n",
    "PREDICT_URL = f\"{API_URL}/predict\"\n",
    "\n",
    "cases = [\n",
    "    {\n",
    "        \"pclass\": 3,\n",
    "        \"age\": 29,\n",
    "        \"fare\": 7.25,\n",
    "        \"sibsp\": 0,\n",
    "        \"parch\": 0,\n",
    "        \"sex\": \"male\",\n",
    "        \"embarked\": \"S\"\n",
    "    },\n",
    "    {\n",
    "        \"pclass\": 1,\n",
    "        \"age\": 38,\n",
    "        \"fare\": 71.2833,\n",
    "        \"sibsp\": 1,\n",
    "        \"parch\": 0,\n",
    "        \"sex\": \"female\",\n",
    "        \"embarked\": \"C\"\n",
    "    },\n",
    "    {\n",
    "        \"pclass\": 2,\n",
    "        \"age\": 21,\n",
    "        \"fare\": 13.0,\n",
    "        \"sibsp\": 0,\n",
    "        \"parch\": 1,\n",
    "        \"sex\": \"female\",\n",
    "        \"embarked\": \"Q\"\n",
    "    }\n",
    "]\n",
    "\n",
    "for i, payload in enumerate(cases, 1):\n",
    "    r = requests.post(PREDICT_URL, json=payload, timeout=20)\n",
    "    print(f\"\\n--- Caso {i} ---\")\n",
    "    print(\"POST\", PREDICT_URL)\n",
    "    print(\"Enviado:\", json.dumps(payload, ensure_ascii=False))\n",
    "    print(\"Status:\", r.status_code)\n",
    "    try:\n",
    "        print(\"Respuesta:\", r.json())\n",
    "    except Exception:\n",
    "        print(\"Respuesta no-JSON:\", r.text)"
   ]
  }
 ],
 "metadata": {
  "kernelspec": {
   "display_name": "myenv",
   "language": "python",
   "name": "python3"
  },
  "language_info": {
   "codemirror_mode": {
    "name": "ipython",
    "version": 3
   },
   "file_extension": ".py",
   "mimetype": "text/x-python",
   "name": "python",
   "nbconvert_exporter": "python",
   "pygments_lexer": "ipython3",
   "version": "3.12.10"
  }
 },
 "nbformat": 4,
 "nbformat_minor": 5
}
